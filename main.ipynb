{
 "cells": [
  {
   "attachments": {},
   "cell_type": "markdown",
   "metadata": {},
   "source": [
    "# 1、读取数据\n",
    "使用numpy读出数据,数据值的范围是[0,255]"
   ]
  },
  {
   "attachments": {},
   "cell_type": "markdown",
   "metadata": {},
   "source": []
  },
  {
   "cell_type": "code",
   "execution_count": 5,
   "metadata": {},
   "outputs": [
    {
     "name": "stdout",
     "output_type": "stream",
     "text": [
      "[  0.   1.   2.   3.   4.   5.   6.   7.   8.   9.  10.  11.  12.  13.\n",
      "  14.  15.  16.  17.  18.  19.  20.  21.  22.  23.  24.  25.  26.  27.\n",
      "  28.  29.  30.  31.  32.  33.  34.  35.  36.  37.  38.  39.  40.  41.\n",
      "  42.  43.  44.  45.  46.  47.  48.  49.  50.  51.  52.  53.  54.  55.\n",
      "  56.  57.  58.  59.  60.  61.  62.  63.  64.  65.  66.  67.  68.  69.\n",
      "  70.  71.  72.  73.  74.  75.  76.  77.  78.  79.  80.  81.  82.  83.\n",
      "  84.  85.  86.  87.  88.  89.  90.  91.  92.  93.  94.  95.  96.  97.\n",
      "  98.  99. 100. 101. 102. 103. 104. 105. 106. 107. 108. 109. 110. 111.\n",
      " 112. 113. 114. 115. 116. 117. 118. 119. 120. 121. 122. 123. 124. 125.\n",
      " 126. 127. 128. 129. 130. 131. 132. 133. 134. 135. 136. 137. 138. 139.\n",
      " 140. 141. 142. 143. 144. 145. 146. 147. 148. 149. 150. 151. 152. 153.\n",
      " 154. 155. 156. 157. 158. 159. 160. 161. 162. 163. 164. 165. 166. 167.\n",
      " 168. 169. 170. 171. 172. 173. 174. 175. 176. 177. 178. 179. 180. 181.\n",
      " 182. 183. 184. 185. 186. 187. 188. 189. 190. 191. 192. 193. 194. 195.\n",
      " 196. 197. 198. 199. 200. 201. 202. 203. 204. 205. 206. 207. 208. 209.\n",
      " 210. 211. 212. 213. 214. 215. 216. 217. 218. 219. 220. 221. 222. 223.\n",
      " 224. 225. 226. 227. 228. 229. 230. 231. 232. 233. 234. 235. 236. 237.\n",
      " 238. 239. 240. 241. 242. 243. 244. 245. 246. 247. 248. 249. 250. 251.\n",
      " 252. 253. 254. 255.]\n",
      "(40000, 28, 28)\n",
      "(40000, 10)\n",
      "float32\n",
      "(2000, 28, 28)\n",
      "(2000, 10)\n",
      "float32\n"
     ]
    }
   ],
   "source": [
    "import numpy as np\n",
    "import pandas as pd\n",
    "\n",
    "TRAIN_DATAPATH = \"../data/MNIST/experiment_09_training_set.csv\"\n",
    "TEST_DATAPATH = \"../data/MNIST/experiment_09_testing_set.csv\"\n",
    "\n",
    "train_data = pd.read_csv(TRAIN_DATAPATH)\n",
    "test_data = pd.read_csv(TEST_DATAPATH)\n",
    "train_data = np.array(train_data).astype(np.float32)\n",
    "test_data = np.array(test_data).astype(np.float32)\n",
    "\n",
    "train_x = train_data[:,1:].reshape(-1,28,28)\n",
    "train_y = train_data[:,0].reshape(-1,1).astype(np.int32)\n",
    "# # 打印每个标签及其对应的频数\n",
    "# label_counts = np.bincount(train_y.reshape(-1))\n",
    "# for label, count in enumerate(label_counts):\n",
    "#     print(f\"Label {label}: Count {count}\")\n",
    "train_y = np.eye(10)[train_y.reshape(-1)].astype(np.float32)\n",
    "\n",
    "test_x = test_data[:,1:].reshape(-1,28,28)\n",
    "test_y = test_data[:,0].reshape(-1,1).astype(np.int32)\n",
    "test_y = np.eye(10)[test_y.reshape(-1)].astype(np.float32)\n",
    "print(np.unique(train_x))\n",
    "print(train_x.shape)\n",
    "print(train_y.shape)\n",
    "print(train_y.dtype)\n",
    "print(test_x.shape)\n",
    "print(test_y.shape)\n",
    "print(test_y.dtype)"
   ]
  },
  {
   "attachments": {},
   "cell_type": "markdown",
   "metadata": {},
   "source": [
    "# 2、查看数据\n",
    "以灰度图的形式展示数据"
   ]
  },
  {
   "cell_type": "code",
   "execution_count": 6,
   "metadata": {},
   "outputs": [
    {
     "data": {
      "text/plain": [
       "<matplotlib.image.AxesImage at 0x1a1e3858a60>"
      ]
     },
     "execution_count": 6,
     "metadata": {},
     "output_type": "execute_result"
    },
    {
     "data": {
      "image/png": "[encoded data removed]",
      "text/plain": [
       "<Figure size 640x480 with 1 Axes>"
      ]
     },
     "metadata": {},
     "output_type": "display_data"
    }
   ],
   "source": [
    "import matplotlib.pyplot as plt\n",
    "\n",
    "img = train_x[1].reshape(28,28)\n",
    "plt.imshow(img,cmap='gray')"
   ]
  },
  {
   "attachments": {},
   "cell_type": "markdown",
   "metadata": {},
   "source": [
    "# 3、将numpy数组转换成Dataset，并完成数据集划分\n",
    "- 定义数据预处理，归一化到[0,1]\n",
    "- 将2000张图片用于测试"
   ]
  },
  {
   "cell_type": "code",
   "execution_count": 7,
   "metadata": {},
   "outputs": [
    {
     "name": "stdout",
     "output_type": "stream",
     "text": [
      "0.13108918433095895\n",
      "0.3086172664866728\n",
      "40000\n",
      "2000\n"
     ]
    }
   ],
   "source": [
    "import torch\n",
    "from torch.utils.data import Dataset\n",
    "import torch.utils.data as data\n",
    "import torchvision.datasets as datasets\n",
    "from torchvision import transforms\n",
    "import torch.nn.functional as F\n",
    "\n",
    "class NumpyDataset(Dataset):\n",
    "    def __init__(self, data, labels, transform=None):\n",
    "        self.data = data\n",
    "        self.labels = labels\n",
    "        self.transform = transform\n",
    "\n",
    "    def __len__(self):\n",
    "        return len(self.data)\n",
    "\n",
    "    def __getitem__(self, index):\n",
    "        data = self.data[index]\n",
    "        label = self.labels[index]\n",
    "        if self.transform:\n",
    "            data = self.transform(data)\n",
    "        return data, label\n",
    "# 计算均值和标准差\n",
    "mean = train_x.mean() / 255\n",
    "std = train_x.std() / 255\n",
    "print(mean)\n",
    "print(std)\n",
    "# 定义数据预处理\n",
    "traintransforms = transforms.Compose([\n",
    "                                        transforms.ToTensor(),\n",
    "                                        # transforms.Normalize(mean=[mean], std=[std]),\n",
    "                                      ])\n",
    "# 创建NumpyDataset实例\n",
    "traindataset = NumpyDataset(train_x, train_y, transform=traintransforms)\n",
    "testdataset = NumpyDataset(test_x, test_y, transform=traintransforms)\n",
    "print(len(traindataset))\n",
    "print(len(testdataset))\n",
    "BATCH_SIZE = 64\n",
    "# 创建DataLoader\n",
    "trainloader = data.DataLoader(traindataset, batch_size=BATCH_SIZE, shuffle=True)\n",
    "testloader = data.DataLoader(testdataset, batch_size=2000, shuffle=True)"
   ]
  },
  {
   "cell_type": "code",
   "execution_count": null,
   "metadata": {},
   "outputs": [],
   "source": []
  },
  {
   "attachments": {},
   "cell_type": "markdown",
   "metadata": {},
   "source": [
    "# 4、模型组网\n",
    "- 参考LeNet-5的结构,将最后一层的RBF改成了全连接+Softmax，输入大小与原论文不一致\n",
    "- 模型结构图<img src = \"./asserts/model.jpg\"> \n",
    "- 参考论文地址:[Gradient-Based Learning Applied to Document Recognition](http://yann.lecun.com/exdb/publis/pdf/lecun-01a.pdf)\n",
    "- 改进后的网络结构图\n",
    "- <img src=\"./asserts/model1.png\" width = 800>"
   ]
  },
  {
   "cell_type": "code",
   "execution_count": 19,
   "metadata": {},
   "outputs": [],
   "source": [
    "import torch.nn as nn\n",
    "import torch.nn.functional as F\n",
    "class LeNet(nn.Module):\n",
    "    def __init__(self):\n",
    "        super(LeNet,self).__init__()\n",
    "        # 模型结构\n",
    "        self.conv1 = nn.Conv2d(in_channels=1, out_channels=6, kernel_size=5) # 28*28*1 -> 24*24*6\n",
    "        self.maxpool2 = nn.MaxPool2d(kernel_size=2) # 24*24*6 -> 12*12*6\n",
    "        self.relu = nn.ReLU()\n",
    "        self.conv3 = nn.Conv2d(in_channels=6, out_channels=16, kernel_size=5) # 12*12*6 -> 8*8*16\n",
    "        self.maxpool4 = nn.MaxPool2d(kernel_size=2) # 8*8*16 -> 4*4*16\n",
    "        self.fc5 = nn.Linear(in_features=4*4*16, out_features=120) # 4*4*16 -> 120\n",
    "        self.fc6 = nn.Linear(in_features=120, out_features=84) # 120 -> 84\n",
    "        self.softmax = nn.Softmax(dim=1)\n",
    "        self.out = nn.Linear(in_features=84, out_features=10) # 84 -> 10\n",
    "    def forward(self,X):\n",
    "        # C1\n",
    "        X = self.conv1(X)\n",
    "        # S2\n",
    "        X = self.maxpool2(X)\n",
    "        X = self.relu(X) \n",
    "        # C3\n",
    "        X = self.conv3(X)\n",
    "        # S4\n",
    "        X = self.maxpool4(X)\n",
    "        X = self.relu(X)  \n",
    "        # flatten\n",
    "        X = X.view(X.shape[0],-1) # flatten\n",
    "        # F5\n",
    "        X = self.fc5(X)\n",
    "        X = self.relu(X) \n",
    "        # F6\n",
    "        X = self.fc6(X)\n",
    "        X = self.relu(X) \n",
    "        # OUTPUT\n",
    "        X = self.out(X)\n",
    "        X = self.softmax(X)\n",
    "        return X"
   ]
  },
  {
   "cell_type": "code",
   "execution_count": 20,
   "metadata": {},
   "outputs": [
    {
     "name": "stdout",
     "output_type": "stream",
     "text": [
      "----------------------------------------------------------------\n",
      "        Layer (type)               Output Shape         Param #\n",
      "================================================================\n",
      "            Conv2d-1            [-1, 6, 24, 24]             156\n",
      "         MaxPool2d-2            [-1, 6, 12, 12]               0\n",
      "              ReLU-3            [-1, 6, 12, 12]               0\n",
      "            Conv2d-4             [-1, 16, 8, 8]           2,416\n",
      "         MaxPool2d-5             [-1, 16, 4, 4]               0\n",
      "              ReLU-6             [-1, 16, 4, 4]               0\n",
      "            Linear-7                  [-1, 120]          30,840\n",
      "              ReLU-8                  [-1, 120]               0\n",
      "            Linear-9                   [-1, 84]          10,164\n",
      "             ReLU-10                   [-1, 84]               0\n",
      "           Linear-11                   [-1, 10]             850\n",
      "          Softmax-12                   [-1, 10]               0\n",
      "================================================================\n",
      "Total params: 44,426\n",
      "Trainable params: 44,426\n",
      "Non-trainable params: 0\n",
      "----------------------------------------------------------------\n",
      "Input size (MB): 0.00\n",
      "Forward/backward pass size (MB): 0.05\n",
      "Params size (MB): 0.17\n",
      "Estimated Total Size (MB): 0.23\n",
      "----------------------------------------------------------------\n"
     ]
    }
   ],
   "source": [
    "import torchsummary as summary\n",
    "model = LeNet()\n",
    "summary.summary(model, (1,28,28))"
   ]
  },
  {
   "attachments": {},
   "cell_type": "markdown",
   "metadata": {},
   "source": [
    "# 5、 训练模型\n",
    "## 优化器选择\n",
    "使用三种不同的优化器完成训练\n",
    "- SGD\n",
    "- Adam\n",
    "- RMSProp\n",
    "## 学习率选择\n",
    "分别在三种不同的优化器上，使用三种不同的学习率完成\n",
    "- 0.01\n",
    "- 0.001\n",
    "- 0.0001\n",
    "## 总共可以训练得到 9 个模型\n",
    "## 损失函数采用MSE loss"
   ]
  },
  {
   "cell_type": "code",
   "execution_count": 9,
   "metadata": {},
   "outputs": [],
   "source": [
    "\n",
    "# 定义优化器\n",
    "import torch.optim as optim\n",
    "model = LeNet()\n",
    "LR_RATE = 0.1 \n",
    "OPTIMIZER = \"SGD\"\n",
    "OUTPUT_PATH = \"LeNet/output/\"\n",
    "EPOCHS = 1000\n",
    "\n",
    "if OPTIMIZER == \"SGD\":\n",
    "    optimizer = optim.SGD(model.parameters(), lr=LR_RATE)\n",
    "elif OPTIMIZER == \"Adam\":\n",
    "    optimizer = optim.Adam(model.parameters(), lr=LR_RATE)\n",
    "elif OPTIMIZER == \"RMSprop\":\n",
    "    optimizer = optim.RMSprop(model.parameters(), lr=LR_RATE)\n",
    "else:\n",
    "    raise NotImplementedError(\"Optimizer is not implemented.\")\n",
    "# 损失函数\n",
    "criterion  = nn.CrossEntropyLoss()"
   ]
  },
  {
   "cell_type": "code",
   "execution_count": 10,
   "metadata": {},
   "outputs": [],
   "source": [
    "import torch\n",
    "from sklearn.metrics import confusion_matrix,precision_score,recall_score,f1_score\n",
    "\n",
    "# 计算准确率\n",
    "def cal_acc(y_pred,y_true):\n",
    "    # 将预测标签转换为与真实标签相同的数据类型\n",
    "    y_pred = y_pred.argmax(dim=1).type_as(y_true)\n",
    "    y_true = y_true.argmax(dim=1)\n",
    "    # 比较预测标签和真实标签并计算准确度\n",
    "    correct = torch.sum(y_pred == y_true).item()\n",
    "    total = y_true.shape[0]\n",
    "    accuracy = correct / total\n",
    "    return accuracy\n",
    "# 计算精确率\n",
    "def cal_precision(y_pred,y_true):\n",
    "    # 将预测标签转换为与真实标签相同的数据类型\n",
    "    y_pred = y_pred.argmax(dim=1).type_as(y_true)\n",
    "    y_true = y_true.argmax(dim=1)\n",
    "    # 计算精确率\n",
    "    precision = precision_score(y_true, y_pred,average='micro')\n",
    "    return precision\n",
    "# 计算召回率\n",
    "def cal_recall(y_pred,y_true):\n",
    "    # 将预测标签转换为与真实标签相同的数据类型\n",
    "    y_pred = y_pred.argmax(dim=1).type_as(y_true)\n",
    "    y_true = y_true.argmax(dim=1)\n",
    "    # 计算召回率\n",
    "    recall =recall_score(y_true, y_pred,average='micro')\n",
    "    return recall\n",
    "def cal_f1(y_pred,y_true):\n",
    "    # 将预测标签转换为与真实标签相同的数据类型\n",
    "    y_pred = y_pred.argmax(dim=1).type_as(y_true)\n",
    "    y_true = y_true.argmax(dim=1)\n",
    "    # 计算F1\n",
    "    F1 = f1_score(y_true, y_pred,average='micro')\n",
    "    return F1"
   ]
  },
  {
   "cell_type": "code",
   "execution_count": null,
   "metadata": {},
   "outputs": [],
   "source": [
    "for epoch in range(EPOCHS):\n",
    "    model.train() \n",
    "    for i,(x,y) in enumerate(trainloader):\n",
    "        y_hat = model(x)\n",
    "        loss = criterion(y_hat,y)\n",
    "        if i%100 == 0:\n",
    "            print(\"iter: {}, loss: {}\".format(i,loss))\n",
    "        loss.backward()\n",
    "        optimizer.step()\n",
    "        optimizer.zero_grad()\n",
    "    model.eval()\n",
    "    with torch.no_grad():\n",
    "        train_acc = 0\n",
    "        for x,y in trainloader:\n",
    "            y_hat = model(x)\n",
    "            train_acc += cal_acc(y_hat,y)\n",
    "        train_acc /= len(trainloader)\n",
    "        test_acc = 0\n",
    "        for x,y in testloader:\n",
    "            y_hat = model(x)\n",
    "            test_acc += cal_acc(y_hat,y)\n",
    "        test_acc /= len(testloader)\n",
    "        print(\"epoch: {}, train_acc: {}, test_acc: {}\".format(epoch,train_acc,test_acc))"
   ]
  },
  {
   "cell_type": "code",
   "execution_count": 14,
   "metadata": {},
   "outputs": [
    {
     "data": {
      "text/plain": [
       "array([[0., 1., 0., ..., 0., 0., 0.],\n",
       "       [1., 0., 0., ..., 0., 0., 0.],\n",
       "       [0., 1., 0., ..., 0., 0., 0.],\n",
       "       ...,\n",
       "       [1., 0., 0., ..., 0., 0., 0.],\n",
       "       [1., 0., 0., ..., 0., 0., 0.],\n",
       "       [0., 0., 0., ..., 0., 0., 0.]], dtype=float32)"
      ]
     },
     "execution_count": 14,
     "metadata": {},
     "output_type": "execute_result"
    }
   ],
   "source": [
    "trainloader.dataset.labels"
   ]
  },
  {
   "cell_type": "code",
   "execution_count": 1,
   "metadata": {},
   "outputs": [
    {
     "name": "stdout",
     "output_type": "stream",
     "text": [
      "操作系统: Windows 10\n",
      "CPU: Intel64 Family 6 Model 141 Stepping 1, GenuineIntel\n",
      "CPU核心数: 16\n",
      "总内存: 15.85 GB\n",
      "可用内存: 4.21 GB\n",
      "磁盘分区:\n",
      "- 设备: C:\\\n",
      "  挂载点: C:\\\n",
      "  文件系统: NTFS\n",
      "- 设备: D:\\\n",
      "  挂载点: D:\\\n",
      "  文件系统: NTFS\n",
      "- 设备: E:\\\n",
      "  挂载点: E:\\\n",
      "  文件系统: NTFS\n",
      "- 设备: F:\\\n",
      "  挂载点: F:\\\n",
      "  文件系统: NTFS\n"
     ]
    }
   ],
   "source": [
    "import platform\n",
    "import psutil\n",
    "\n",
    "# 获取操作系统信息\n",
    "os_name = platform.system()\n",
    "os_version = platform.release()\n",
    "\n",
    "# 获取CPU信息\n",
    "cpu_name = platform.processor()\n",
    "cpu_cores = psutil.cpu_count()\n",
    "\n",
    "# 获取内存信息\n",
    "total_memory = psutil.virtual_memory().total\n",
    "available_memory = psutil.virtual_memory().available\n",
    "\n",
    "# 获取磁盘信息\n",
    "disk_partitions = psutil.disk_partitions()\n",
    "\n",
    "# 打印硬件环境信息\n",
    "print(\"操作系统: {} {}\".format(os_name, os_version))\n",
    "print(\"CPU: {}\".format(cpu_name))\n",
    "print(\"CPU核心数: {}\".format(cpu_cores))\n",
    "print(\"总内存: {:.2f} GB\".format(total_memory / (1024 ** 3)))\n",
    "print(\"可用内存: {:.2f} GB\".format(available_memory / (1024 ** 3)))\n",
    "print(\"磁盘分区:\")\n",
    "for partition in disk_partitions:\n",
    "    print(\"- 设备: {}\".format(partition.device))\n",
    "    print(\"  挂载点: {}\".format(partition.mountpoint))\n",
    "    print(\"  文件系统: {}\".format(partition.fstype))\n"
   ]
  }
 ],
 "metadata": {
  "kernelspec": {
   "display_name": "pytorch-cpu",
   "language": "python",
   "name": "python3"
  },
  "language_info": {
   "codemirror_mode": {
    "name": "ipython",
    "version": 3
   },
   "file_extension": ".py",
   "mimetype": "text/x-python",
   "name": "python",
   "nbconvert_exporter": "python",
   "pygments_lexer": "ipython3",
   "version": "3.9.16"
  },
  "orig_nbformat": 4
 },
 "nbformat": 4,
 "nbformat_minor": 2
}
